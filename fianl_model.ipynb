{
  "nbformat": 4,
  "nbformat_minor": 0,
  "metadata": {
    "colab": {
      "provenance": []
    },
    "kernelspec": {
      "name": "python3",
      "display_name": "Python 3"
    },
    "language_info": {
      "name": "python"
    }
  },
  "cells": [
    {
      "cell_type": "code",
      "execution_count": 78,
      "metadata": {
        "id": "J-DdWHozf8At"
      },
      "outputs": [],
      "source": [
        "import torch\n",
        "import torch.nn as nn\n",
        "import torch.nn.functional as F\n",
        "from torch.utils.data import Dataset, DataLoader\n",
        "from torchvision import transforms, utils\n",
        "\n",
        "import numpy as np\n",
        "import matplotlib.pyplot as plt\n",
        "import pandas as pd\n",
        "from pathlib import Path\n",
        "import os\n",
        "import random\n",
        "\n",
        "from skimage import transform, io\n",
        "\n",
        "from PIL import Image\n",
        "import cv2\n",
        "\n",
        "from sklearn.model_selection import train_test_split"
      ]
    },
    {
      "cell_type": "code",
      "source": [
        "device = 'cuda' if torch.cuda.is_available() else 'cpu'"
      ],
      "metadata": {
        "id": "CU7VRQuVnfAb"
      },
      "execution_count": 84,
      "outputs": []
    },
    {
      "cell_type": "code",
      "source": [
        "device"
      ],
      "metadata": {
        "colab": {
          "base_uri": "https://localhost:8080/",
          "height": 35
        },
        "id": "1hjVOt9gnpVd",
        "outputId": "bc3248f8-f707-4dfc-b4e3-54909a3e3995"
      },
      "execution_count": 85,
      "outputs": [
        {
          "output_type": "execute_result",
          "data": {
            "text/plain": [
              "'cpu'"
            ],
            "application/vnd.google.colaboratory.intrinsic+json": {
              "type": "string"
            }
          },
          "metadata": {},
          "execution_count": 85
        }
      ]
    },
    {
      "cell_type": "markdown",
      "source": [
        "# Prepare data"
      ],
      "metadata": {
        "id": "NPQD_GwdhjxP"
      }
    },
    {
      "cell_type": "code",
      "source": [
        "dataset_path = './drive/MyDrive/AIMedic/data/'\n",
        "dataset_D = './drive/MyDrive/AIMedic/data/Data_D'"
      ],
      "metadata": {
        "id": "A1Bg3LxKmppt"
      },
      "execution_count": 2,
      "outputs": []
    },
    {
      "cell_type": "markdown",
      "source": [
        "### Create CSV file with pandas for paths"
      ],
      "metadata": {
        "id": "59rTuqX40ifM"
      }
    },
    {
      "cell_type": "code",
      "source": [
        "data_dictionary = {}"
      ],
      "metadata": {
        "id": "qRCKrwmLyBiw"
      },
      "execution_count": 3,
      "outputs": []
    },
    {
      "cell_type": "code",
      "source": [
        "filepaths = []\n",
        "filelist = os.listdir(dataset_D)\n",
        "for dir in filelist:\n",
        "  print(dir)\n",
        "  temp_dir = os.path.join(dataset_D, dir)\n",
        "  for f in os.listdir(temp_dir):\n",
        "    filepaths.append(os.path.join(temp_dir, f))\n",
        "  data_dictionary[dir] = filepaths[:1229]\n",
        "  filepaths = []\n"
      ],
      "metadata": {
        "id": "oOgMgnJ7vU3m"
      },
      "execution_count": null,
      "outputs": []
    },
    {
      "cell_type": "code",
      "source": [
        "covid_path_dataframe = pd.DataFrame(data_dictionary)"
      ],
      "metadata": {
        "id": "wTev4CbizCB-"
      },
      "execution_count": 69,
      "outputs": []
    },
    {
      "cell_type": "code",
      "source": [
        "covid_path_dataframe"
      ],
      "metadata": {
        "colab": {
          "base_uri": "https://localhost:8080/",
          "height": 641
        },
        "id": "vkvaYGMm1BMe",
        "outputId": "695fd2c3-f57a-47e1-e938-82a16a361f72"
      },
      "execution_count": 70,
      "outputs": [
        {
          "output_type": "execute_result",
          "data": {
            "text/plain": [
              "                                                  COVID  \\\n",
              "0     ./drive/MyDrive/AIMedic/data/Data_D/COVID/Covi...   \n",
              "1     ./drive/MyDrive/AIMedic/data/Data_D/COVID/Covi...   \n",
              "2     ./drive/MyDrive/AIMedic/data/Data_D/COVID/Covi...   \n",
              "3     ./drive/MyDrive/AIMedic/data/Data_D/COVID/Covi...   \n",
              "4     ./drive/MyDrive/AIMedic/data/Data_D/COVID/Covi...   \n",
              "...                                                 ...   \n",
              "1224  ./drive/MyDrive/AIMedic/data/Data_D/COVID/Covi...   \n",
              "1225  ./drive/MyDrive/AIMedic/data/Data_D/COVID/Covi...   \n",
              "1226  ./drive/MyDrive/AIMedic/data/Data_D/COVID/Covi...   \n",
              "1227  ./drive/MyDrive/AIMedic/data/Data_D/COVID/Covi...   \n",
              "1228  ./drive/MyDrive/AIMedic/data/Data_D/COVID/Covi...   \n",
              "\n",
              "                                              non-COVID  \n",
              "0     ./drive/MyDrive/AIMedic/data/Data_D/non-COVID/...  \n",
              "1     ./drive/MyDrive/AIMedic/data/Data_D/non-COVID/...  \n",
              "2     ./drive/MyDrive/AIMedic/data/Data_D/non-COVID/...  \n",
              "3     ./drive/MyDrive/AIMedic/data/Data_D/non-COVID/...  \n",
              "4     ./drive/MyDrive/AIMedic/data/Data_D/non-COVID/...  \n",
              "...                                                 ...  \n",
              "1224  ./drive/MyDrive/AIMedic/data/Data_D/non-COVID/...  \n",
              "1225  ./drive/MyDrive/AIMedic/data/Data_D/non-COVID/...  \n",
              "1226  ./drive/MyDrive/AIMedic/data/Data_D/non-COVID/...  \n",
              "1227  ./drive/MyDrive/AIMedic/data/Data_D/non-COVID/...  \n",
              "1228  ./drive/MyDrive/AIMedic/data/Data_D/non-COVID/...  \n",
              "\n",
              "[1229 rows x 2 columns]"
            ],
            "text/html": [
              "\n",
              "  <div id=\"df-3fc08266-379e-4fed-83c2-0ac37fed308b\">\n",
              "    <div class=\"colab-df-container\">\n",
              "      <div>\n",
              "<style scoped>\n",
              "    .dataframe tbody tr th:only-of-type {\n",
              "        vertical-align: middle;\n",
              "    }\n",
              "\n",
              "    .dataframe tbody tr th {\n",
              "        vertical-align: top;\n",
              "    }\n",
              "\n",
              "    .dataframe thead th {\n",
              "        text-align: right;\n",
              "    }\n",
              "</style>\n",
              "<table border=\"1\" class=\"dataframe\">\n",
              "  <thead>\n",
              "    <tr style=\"text-align: right;\">\n",
              "      <th></th>\n",
              "      <th>COVID</th>\n",
              "      <th>non-COVID</th>\n",
              "    </tr>\n",
              "  </thead>\n",
              "  <tbody>\n",
              "    <tr>\n",
              "      <th>0</th>\n",
              "      <td>./drive/MyDrive/AIMedic/data/Data_D/COVID/Covi...</td>\n",
              "      <td>./drive/MyDrive/AIMedic/data/Data_D/non-COVID/...</td>\n",
              "    </tr>\n",
              "    <tr>\n",
              "      <th>1</th>\n",
              "      <td>./drive/MyDrive/AIMedic/data/Data_D/COVID/Covi...</td>\n",
              "      <td>./drive/MyDrive/AIMedic/data/Data_D/non-COVID/...</td>\n",
              "    </tr>\n",
              "    <tr>\n",
              "      <th>2</th>\n",
              "      <td>./drive/MyDrive/AIMedic/data/Data_D/COVID/Covi...</td>\n",
              "      <td>./drive/MyDrive/AIMedic/data/Data_D/non-COVID/...</td>\n",
              "    </tr>\n",
              "    <tr>\n",
              "      <th>3</th>\n",
              "      <td>./drive/MyDrive/AIMedic/data/Data_D/COVID/Covi...</td>\n",
              "      <td>./drive/MyDrive/AIMedic/data/Data_D/non-COVID/...</td>\n",
              "    </tr>\n",
              "    <tr>\n",
              "      <th>4</th>\n",
              "      <td>./drive/MyDrive/AIMedic/data/Data_D/COVID/Covi...</td>\n",
              "      <td>./drive/MyDrive/AIMedic/data/Data_D/non-COVID/...</td>\n",
              "    </tr>\n",
              "    <tr>\n",
              "      <th>...</th>\n",
              "      <td>...</td>\n",
              "      <td>...</td>\n",
              "    </tr>\n",
              "    <tr>\n",
              "      <th>1224</th>\n",
              "      <td>./drive/MyDrive/AIMedic/data/Data_D/COVID/Covi...</td>\n",
              "      <td>./drive/MyDrive/AIMedic/data/Data_D/non-COVID/...</td>\n",
              "    </tr>\n",
              "    <tr>\n",
              "      <th>1225</th>\n",
              "      <td>./drive/MyDrive/AIMedic/data/Data_D/COVID/Covi...</td>\n",
              "      <td>./drive/MyDrive/AIMedic/data/Data_D/non-COVID/...</td>\n",
              "    </tr>\n",
              "    <tr>\n",
              "      <th>1226</th>\n",
              "      <td>./drive/MyDrive/AIMedic/data/Data_D/COVID/Covi...</td>\n",
              "      <td>./drive/MyDrive/AIMedic/data/Data_D/non-COVID/...</td>\n",
              "    </tr>\n",
              "    <tr>\n",
              "      <th>1227</th>\n",
              "      <td>./drive/MyDrive/AIMedic/data/Data_D/COVID/Covi...</td>\n",
              "      <td>./drive/MyDrive/AIMedic/data/Data_D/non-COVID/...</td>\n",
              "    </tr>\n",
              "    <tr>\n",
              "      <th>1228</th>\n",
              "      <td>./drive/MyDrive/AIMedic/data/Data_D/COVID/Covi...</td>\n",
              "      <td>./drive/MyDrive/AIMedic/data/Data_D/non-COVID/...</td>\n",
              "    </tr>\n",
              "  </tbody>\n",
              "</table>\n",
              "<p>1229 rows × 2 columns</p>\n",
              "</div>\n",
              "      <button class=\"colab-df-convert\" onclick=\"convertToInteractive('df-3fc08266-379e-4fed-83c2-0ac37fed308b')\"\n",
              "              title=\"Convert this dataframe to an interactive table.\"\n",
              "              style=\"display:none;\">\n",
              "        \n",
              "  <svg xmlns=\"http://www.w3.org/2000/svg\" height=\"24px\"viewBox=\"0 0 24 24\"\n",
              "       width=\"24px\">\n",
              "    <path d=\"M0 0h24v24H0V0z\" fill=\"none\"/>\n",
              "    <path d=\"M18.56 5.44l.94 2.06.94-2.06 2.06-.94-2.06-.94-.94-2.06-.94 2.06-2.06.94zm-11 1L8.5 8.5l.94-2.06 2.06-.94-2.06-.94L8.5 2.5l-.94 2.06-2.06.94zm10 10l.94 2.06.94-2.06 2.06-.94-2.06-.94-.94-2.06-.94 2.06-2.06.94z\"/><path d=\"M17.41 7.96l-1.37-1.37c-.4-.4-.92-.59-1.43-.59-.52 0-1.04.2-1.43.59L10.3 9.45l-7.72 7.72c-.78.78-.78 2.05 0 2.83L4 21.41c.39.39.9.59 1.41.59.51 0 1.02-.2 1.41-.59l7.78-7.78 2.81-2.81c.8-.78.8-2.07 0-2.86zM5.41 20L4 18.59l7.72-7.72 1.47 1.35L5.41 20z\"/>\n",
              "  </svg>\n",
              "      </button>\n",
              "      \n",
              "  <style>\n",
              "    .colab-df-container {\n",
              "      display:flex;\n",
              "      flex-wrap:wrap;\n",
              "      gap: 12px;\n",
              "    }\n",
              "\n",
              "    .colab-df-convert {\n",
              "      background-color: #E8F0FE;\n",
              "      border: none;\n",
              "      border-radius: 50%;\n",
              "      cursor: pointer;\n",
              "      display: none;\n",
              "      fill: #1967D2;\n",
              "      height: 32px;\n",
              "      padding: 0 0 0 0;\n",
              "      width: 32px;\n",
              "    }\n",
              "\n",
              "    .colab-df-convert:hover {\n",
              "      background-color: #E2EBFA;\n",
              "      box-shadow: 0px 1px 2px rgba(60, 64, 67, 0.3), 0px 1px 3px 1px rgba(60, 64, 67, 0.15);\n",
              "      fill: #174EA6;\n",
              "    }\n",
              "\n",
              "    [theme=dark] .colab-df-convert {\n",
              "      background-color: #3B4455;\n",
              "      fill: #D2E3FC;\n",
              "    }\n",
              "\n",
              "    [theme=dark] .colab-df-convert:hover {\n",
              "      background-color: #434B5C;\n",
              "      box-shadow: 0px 1px 3px 1px rgba(0, 0, 0, 0.15);\n",
              "      filter: drop-shadow(0px 1px 2px rgba(0, 0, 0, 0.3));\n",
              "      fill: #FFFFFF;\n",
              "    }\n",
              "  </style>\n",
              "\n",
              "      <script>\n",
              "        const buttonEl =\n",
              "          document.querySelector('#df-3fc08266-379e-4fed-83c2-0ac37fed308b button.colab-df-convert');\n",
              "        buttonEl.style.display =\n",
              "          google.colab.kernel.accessAllowed ? 'block' : 'none';\n",
              "\n",
              "        async function convertToInteractive(key) {\n",
              "          const element = document.querySelector('#df-3fc08266-379e-4fed-83c2-0ac37fed308b');\n",
              "          const dataTable =\n",
              "            await google.colab.kernel.invokeFunction('convertToInteractive',\n",
              "                                                     [key], {});\n",
              "          if (!dataTable) return;\n",
              "\n",
              "          const docLinkHtml = 'Like what you see? Visit the ' +\n",
              "            '<a target=\"_blank\" href=https://colab.research.google.com/notebooks/data_table.ipynb>data table notebook</a>'\n",
              "            + ' to learn more about interactive tables.';\n",
              "          element.innerHTML = '';\n",
              "          dataTable['output_type'] = 'display_data';\n",
              "          await google.colab.output.renderOutput(dataTable, element);\n",
              "          const docLink = document.createElement('div');\n",
              "          docLink.innerHTML = docLinkHtml;\n",
              "          element.appendChild(docLink);\n",
              "        }\n",
              "      </script>\n",
              "    </div>\n",
              "  </div>\n",
              "  "
            ]
          },
          "metadata": {},
          "execution_count": 70
        }
      ]
    },
    {
      "cell_type": "code",
      "source": [
        "covid_path_dataframe.to_csv('./drive/MyDrive/AIMedic/data/Data_D/data.csv')"
      ],
      "metadata": {
        "id": "-aw70zcL0CFY"
      },
      "execution_count": 65,
      "outputs": []
    },
    {
      "cell_type": "markdown",
      "source": [
        "> first we want to create dataloader for Dataset_D"
      ],
      "metadata": {
        "id": "hFO4D1TgnPM5"
      }
    },
    {
      "cell_type": "code",
      "source": [
        "covid_path_dataframe"
      ],
      "metadata": {
        "colab": {
          "base_uri": "https://localhost:8080/",
          "height": 641
        },
        "id": "wPMSfqesItsJ",
        "outputId": "abc16ed9-2f5f-492c-80ca-d071e6952685"
      },
      "execution_count": 7,
      "outputs": [
        {
          "output_type": "execute_result",
          "data": {
            "text/plain": [
              "                                                  COVID  \\\n",
              "0     ./drive/MyDrive/AIMedic/data/Data_D/COVID/Covi...   \n",
              "1     ./drive/MyDrive/AIMedic/data/Data_D/COVID/Covi...   \n",
              "2     ./drive/MyDrive/AIMedic/data/Data_D/COVID/Covi...   \n",
              "3     ./drive/MyDrive/AIMedic/data/Data_D/COVID/Covi...   \n",
              "4     ./drive/MyDrive/AIMedic/data/Data_D/COVID/Covi...   \n",
              "...                                                 ...   \n",
              "1224  ./drive/MyDrive/AIMedic/data/Data_D/COVID/Covi...   \n",
              "1225  ./drive/MyDrive/AIMedic/data/Data_D/COVID/Covi...   \n",
              "1226  ./drive/MyDrive/AIMedic/data/Data_D/COVID/Covi...   \n",
              "1227  ./drive/MyDrive/AIMedic/data/Data_D/COVID/Covi...   \n",
              "1228  ./drive/MyDrive/AIMedic/data/Data_D/COVID/Covi...   \n",
              "\n",
              "                                              non-COVID  \n",
              "0     ./drive/MyDrive/AIMedic/data/Data_D/non-COVID/...  \n",
              "1     ./drive/MyDrive/AIMedic/data/Data_D/non-COVID/...  \n",
              "2     ./drive/MyDrive/AIMedic/data/Data_D/non-COVID/...  \n",
              "3     ./drive/MyDrive/AIMedic/data/Data_D/non-COVID/...  \n",
              "4     ./drive/MyDrive/AIMedic/data/Data_D/non-COVID/...  \n",
              "...                                                 ...  \n",
              "1224  ./drive/MyDrive/AIMedic/data/Data_D/non-COVID/...  \n",
              "1225  ./drive/MyDrive/AIMedic/data/Data_D/non-COVID/...  \n",
              "1226  ./drive/MyDrive/AIMedic/data/Data_D/non-COVID/...  \n",
              "1227  ./drive/MyDrive/AIMedic/data/Data_D/non-COVID/...  \n",
              "1228  ./drive/MyDrive/AIMedic/data/Data_D/non-COVID/...  \n",
              "\n",
              "[1229 rows x 2 columns]"
            ],
            "text/html": [
              "\n",
              "  <div id=\"df-793d998d-a24b-4d0e-923d-dde5de908141\">\n",
              "    <div class=\"colab-df-container\">\n",
              "      <div>\n",
              "<style scoped>\n",
              "    .dataframe tbody tr th:only-of-type {\n",
              "        vertical-align: middle;\n",
              "    }\n",
              "\n",
              "    .dataframe tbody tr th {\n",
              "        vertical-align: top;\n",
              "    }\n",
              "\n",
              "    .dataframe thead th {\n",
              "        text-align: right;\n",
              "    }\n",
              "</style>\n",
              "<table border=\"1\" class=\"dataframe\">\n",
              "  <thead>\n",
              "    <tr style=\"text-align: right;\">\n",
              "      <th></th>\n",
              "      <th>COVID</th>\n",
              "      <th>non-COVID</th>\n",
              "    </tr>\n",
              "  </thead>\n",
              "  <tbody>\n",
              "    <tr>\n",
              "      <th>0</th>\n",
              "      <td>./drive/MyDrive/AIMedic/data/Data_D/COVID/Covi...</td>\n",
              "      <td>./drive/MyDrive/AIMedic/data/Data_D/non-COVID/...</td>\n",
              "    </tr>\n",
              "    <tr>\n",
              "      <th>1</th>\n",
              "      <td>./drive/MyDrive/AIMedic/data/Data_D/COVID/Covi...</td>\n",
              "      <td>./drive/MyDrive/AIMedic/data/Data_D/non-COVID/...</td>\n",
              "    </tr>\n",
              "    <tr>\n",
              "      <th>2</th>\n",
              "      <td>./drive/MyDrive/AIMedic/data/Data_D/COVID/Covi...</td>\n",
              "      <td>./drive/MyDrive/AIMedic/data/Data_D/non-COVID/...</td>\n",
              "    </tr>\n",
              "    <tr>\n",
              "      <th>3</th>\n",
              "      <td>./drive/MyDrive/AIMedic/data/Data_D/COVID/Covi...</td>\n",
              "      <td>./drive/MyDrive/AIMedic/data/Data_D/non-COVID/...</td>\n",
              "    </tr>\n",
              "    <tr>\n",
              "      <th>4</th>\n",
              "      <td>./drive/MyDrive/AIMedic/data/Data_D/COVID/Covi...</td>\n",
              "      <td>./drive/MyDrive/AIMedic/data/Data_D/non-COVID/...</td>\n",
              "    </tr>\n",
              "    <tr>\n",
              "      <th>...</th>\n",
              "      <td>...</td>\n",
              "      <td>...</td>\n",
              "    </tr>\n",
              "    <tr>\n",
              "      <th>1224</th>\n",
              "      <td>./drive/MyDrive/AIMedic/data/Data_D/COVID/Covi...</td>\n",
              "      <td>./drive/MyDrive/AIMedic/data/Data_D/non-COVID/...</td>\n",
              "    </tr>\n",
              "    <tr>\n",
              "      <th>1225</th>\n",
              "      <td>./drive/MyDrive/AIMedic/data/Data_D/COVID/Covi...</td>\n",
              "      <td>./drive/MyDrive/AIMedic/data/Data_D/non-COVID/...</td>\n",
              "    </tr>\n",
              "    <tr>\n",
              "      <th>1226</th>\n",
              "      <td>./drive/MyDrive/AIMedic/data/Data_D/COVID/Covi...</td>\n",
              "      <td>./drive/MyDrive/AIMedic/data/Data_D/non-COVID/...</td>\n",
              "    </tr>\n",
              "    <tr>\n",
              "      <th>1227</th>\n",
              "      <td>./drive/MyDrive/AIMedic/data/Data_D/COVID/Covi...</td>\n",
              "      <td>./drive/MyDrive/AIMedic/data/Data_D/non-COVID/...</td>\n",
              "    </tr>\n",
              "    <tr>\n",
              "      <th>1228</th>\n",
              "      <td>./drive/MyDrive/AIMedic/data/Data_D/COVID/Covi...</td>\n",
              "      <td>./drive/MyDrive/AIMedic/data/Data_D/non-COVID/...</td>\n",
              "    </tr>\n",
              "  </tbody>\n",
              "</table>\n",
              "<p>1229 rows × 2 columns</p>\n",
              "</div>\n",
              "      <button class=\"colab-df-convert\" onclick=\"convertToInteractive('df-793d998d-a24b-4d0e-923d-dde5de908141')\"\n",
              "              title=\"Convert this dataframe to an interactive table.\"\n",
              "              style=\"display:none;\">\n",
              "        \n",
              "  <svg xmlns=\"http://www.w3.org/2000/svg\" height=\"24px\"viewBox=\"0 0 24 24\"\n",
              "       width=\"24px\">\n",
              "    <path d=\"M0 0h24v24H0V0z\" fill=\"none\"/>\n",
              "    <path d=\"M18.56 5.44l.94 2.06.94-2.06 2.06-.94-2.06-.94-.94-2.06-.94 2.06-2.06.94zm-11 1L8.5 8.5l.94-2.06 2.06-.94-2.06-.94L8.5 2.5l-.94 2.06-2.06.94zm10 10l.94 2.06.94-2.06 2.06-.94-2.06-.94-.94-2.06-.94 2.06-2.06.94z\"/><path d=\"M17.41 7.96l-1.37-1.37c-.4-.4-.92-.59-1.43-.59-.52 0-1.04.2-1.43.59L10.3 9.45l-7.72 7.72c-.78.78-.78 2.05 0 2.83L4 21.41c.39.39.9.59 1.41.59.51 0 1.02-.2 1.41-.59l7.78-7.78 2.81-2.81c.8-.78.8-2.07 0-2.86zM5.41 20L4 18.59l7.72-7.72 1.47 1.35L5.41 20z\"/>\n",
              "  </svg>\n",
              "      </button>\n",
              "      \n",
              "  <style>\n",
              "    .colab-df-container {\n",
              "      display:flex;\n",
              "      flex-wrap:wrap;\n",
              "      gap: 12px;\n",
              "    }\n",
              "\n",
              "    .colab-df-convert {\n",
              "      background-color: #E8F0FE;\n",
              "      border: none;\n",
              "      border-radius: 50%;\n",
              "      cursor: pointer;\n",
              "      display: none;\n",
              "      fill: #1967D2;\n",
              "      height: 32px;\n",
              "      padding: 0 0 0 0;\n",
              "      width: 32px;\n",
              "    }\n",
              "\n",
              "    .colab-df-convert:hover {\n",
              "      background-color: #E2EBFA;\n",
              "      box-shadow: 0px 1px 2px rgba(60, 64, 67, 0.3), 0px 1px 3px 1px rgba(60, 64, 67, 0.15);\n",
              "      fill: #174EA6;\n",
              "    }\n",
              "\n",
              "    [theme=dark] .colab-df-convert {\n",
              "      background-color: #3B4455;\n",
              "      fill: #D2E3FC;\n",
              "    }\n",
              "\n",
              "    [theme=dark] .colab-df-convert:hover {\n",
              "      background-color: #434B5C;\n",
              "      box-shadow: 0px 1px 3px 1px rgba(0, 0, 0, 0.15);\n",
              "      filter: drop-shadow(0px 1px 2px rgba(0, 0, 0, 0.3));\n",
              "      fill: #FFFFFF;\n",
              "    }\n",
              "  </style>\n",
              "\n",
              "      <script>\n",
              "        const buttonEl =\n",
              "          document.querySelector('#df-793d998d-a24b-4d0e-923d-dde5de908141 button.colab-df-convert');\n",
              "        buttonEl.style.display =\n",
              "          google.colab.kernel.accessAllowed ? 'block' : 'none';\n",
              "\n",
              "        async function convertToInteractive(key) {\n",
              "          const element = document.querySelector('#df-793d998d-a24b-4d0e-923d-dde5de908141');\n",
              "          const dataTable =\n",
              "            await google.colab.kernel.invokeFunction('convertToInteractive',\n",
              "                                                     [key], {});\n",
              "          if (!dataTable) return;\n",
              "\n",
              "          const docLinkHtml = 'Like what you see? Visit the ' +\n",
              "            '<a target=\"_blank\" href=https://colab.research.google.com/notebooks/data_table.ipynb>data table notebook</a>'\n",
              "            + ' to learn more about interactive tables.';\n",
              "          element.innerHTML = '';\n",
              "          dataTable['output_type'] = 'display_data';\n",
              "          await google.colab.output.renderOutput(dataTable, element);\n",
              "          const docLink = document.createElement('div');\n",
              "          docLink.innerHTML = docLinkHtml;\n",
              "          element.appendChild(docLink);\n",
              "        }\n",
              "      </script>\n",
              "    </div>\n",
              "  </div>\n",
              "  "
            ]
          },
          "metadata": {},
          "execution_count": 7
        }
      ]
    },
    {
      "cell_type": "markdown",
      "source": [
        "# loader images"
      ],
      "metadata": {
        "id": "zWC2xJI3a-cY"
      }
    },
    {
      "cell_type": "code",
      "source": [
        "csv_path = './drive/MyDrive/AIMedic/data/Data_D/data.csv'\n",
        "covid_path_dataframe = pd.read_csv(csv_path, index_col=0)"
      ],
      "metadata": {
        "id": "1FJRTMwya7jF"
      },
      "execution_count": 6,
      "outputs": []
    },
    {
      "cell_type": "code",
      "source": [
        "class ToTensor(object):\n",
        "    \"\"\"Convert ndarrays in sample to Tensors.\"\"\"\n",
        "\n",
        "    def __call__(self, sample):\n",
        "        # print(sample.keys())\n",
        "        image_i = sample['image_i']\n",
        "        label_i = sample['label_i']\n",
        "        image_mu = sample['image_mu']\n",
        "        label_mu = sample['label_mu']\n",
        "\n",
        "        # swap color axis because\n",
        "        # numpy image: H x W x C\n",
        "        # torch image: C x H x W\n",
        "        image_i = image_i.transpose((2, 0, 1))\n",
        "        image_mu = image_mu.transpose((2, 0, 1))\n",
        "        return {'image_i': torch.from_numpy(image_i),\n",
        "                'label_i': torch.tensor(label_i),\n",
        "                'image_mu': torch.from_numpy(image_mu),\n",
        "                'label_mu': torch.tensor(label_mu),\n",
        "        }"
      ],
      "metadata": {
        "id": "Lg8aeBLxHesi"
      },
      "execution_count": 17,
      "outputs": []
    },
    {
      "cell_type": "code",
      "source": [
        "class Rescale(object):\n",
        "    \"\"\"Rescale the image in a sample to a given size.\n",
        "\n",
        "    Args:\n",
        "        output_size (tuple or int): Desired output size. If tuple, output is\n",
        "            matched to output_size. If int, smaller of image edges is matched\n",
        "            to output_size keeping aspect ratio the same.\n",
        "    \"\"\"\n",
        "\n",
        "    def __init__(self, output_size):\n",
        "        assert isinstance(output_size, (int, tuple))\n",
        "        self.output_size = output_size\n",
        "\n",
        "    def resize(self, image):\n",
        "\n",
        "      img = cv2.resize(image, (self.output_size, self.output_size))\n",
        "      img = np.stack((img,)*3, axis=-1)\n",
        "\n",
        "      return np.divide(img, 255.0, dtype='float')\n",
        "\n",
        "    def __call__(self, sample):\n",
        "        image_i = sample['image_i']\n",
        "        label_i = sample['label_i']\n",
        "        image_mu = sample['image_mu']\n",
        "        label_mu = sample['label_mu']\n",
        "\n",
        "        image_i = self.resize(image_i)\n",
        "        image_mu = self.resize(image_mu)\n",
        "\n",
        "        # h and w are swapped for landmarks because for images,\n",
        "        # x and y axes are axis 1 and 0 respectively\n",
        "        # landmarks = landmarks * [new_w / w, new_h / h]\n",
        "\n",
        "        return {'image_i': image_i,\n",
        "                'label_i': label_i,\n",
        "                'image_mu': image_mu,\n",
        "                'label_mu': label_mu\n",
        "                }\n"
      ],
      "metadata": {
        "id": "htEXqB6hKVNf"
      },
      "execution_count": 89,
      "outputs": []
    },
    {
      "cell_type": "code",
      "source": [
        "class CovidDataset(Dataset):\n",
        "  def __init__(self, path_df, transform=None):\n",
        "    self.path_df = path_df\n",
        "    # columns = path_df.columns\n",
        "    # self.covid_df = path_df[columns[0]]\n",
        "    # self.nonCovid_df = path_df[columns[1]]\n",
        "\n",
        "    self.df_list = []\n",
        "    for column in path_df.columns:\n",
        "      self.df_list.append(path_df[column])\n",
        "\n",
        "    self.transform = transform\n",
        "\n",
        "  def __len__(self):\n",
        "    return len(self.path_df)\n",
        "\n",
        "  def __getitem__(self, idx):\n",
        "    if torch.is_tensor(idx):\n",
        "      idx = idx.tolist()\n",
        "\n",
        "    t_i = random.getrandbits(1)\n",
        "    t_mu = int(not t_i)\n",
        "\n",
        "    image_i = cv2.imread(self.df_list[t_i].iloc[idx], 0)\n",
        "    # image_i = np.stack((image_i,)*3, axis=-1)\n",
        "    label_i = t_i\n",
        "\n",
        "    image_mu = cv2.imread(self.df_list[t_mu].iloc[idx], 0)\n",
        "    # image_mu = np.stack((image_mu,)*3, axis=-1)\n",
        "    label_mu = t_mu\n",
        "\n",
        "    sample = {\n",
        "        'image_i': image_i,\n",
        "        'label_i': label_i,\n",
        "        'image_mu': image_mu,\n",
        "        'label_mu': label_mu\n",
        "    }\n",
        "\n",
        "    # print('1: ', sample.keys())\n",
        "    if self.transform:\n",
        "      # print('2: ', sample.keys())\n",
        "      sample = self.transform(sample)\n",
        "\n",
        "    return sample\n",
        "\n",
        "\n",
        "    "
      ],
      "metadata": {
        "id": "HI1ODKmqnGjB"
      },
      "execution_count": 90,
      "outputs": []
    },
    {
      "cell_type": "markdown",
      "source": [
        "### split dataframe and feed to dataloader"
      ],
      "metadata": {
        "id": "QlUef23BdZxZ"
      }
    },
    {
      "cell_type": "code",
      "source": [
        "train_df, test_df = train_test_split(covid_path_dataframe, test_size=.2, random_state=1234)"
      ],
      "metadata": {
        "id": "OHZhvqCqdpac"
      },
      "execution_count": 91,
      "outputs": []
    },
    {
      "cell_type": "code",
      "source": [
        "train_dataset = CovidDataset(train_df, \n",
        "                     transform=transforms.Compose([\n",
        "                     Rescale(224),\n",
        "                     ToTensor(),\n",
        "                        ])\n",
        ")\n",
        "test_dataset = CovidDataset(test_df, \n",
        "                     transform=transforms.Compose([\n",
        "                     Rescale(224),\n",
        "                     ToTensor(),\n",
        "                        ])\n",
        ")"
      ],
      "metadata": {
        "id": "zwmEg1MUA1ur"
      },
      "execution_count": 92,
      "outputs": []
    },
    {
      "cell_type": "code",
      "source": [
        "print(f'shape of train dataset: {len(train_dataset)}\\nshape of test dataset: {len(test_dataset)}')"
      ],
      "metadata": {
        "colab": {
          "base_uri": "https://localhost:8080/"
        },
        "id": "K6vDkoKlEa52",
        "outputId": "cf241709-57de-4189-af4d-7b5d9b026715"
      },
      "execution_count": 93,
      "outputs": [
        {
          "output_type": "stream",
          "name": "stdout",
          "text": [
            "shape of train dataset: 983\n",
            "shape of test dataset: 246\n"
          ]
        }
      ]
    },
    {
      "cell_type": "code",
      "source": [
        "train_loader = DataLoader(train_dataset, batch_size=16, \n",
        "                          shuffle=True, num_workers=0)\n",
        "\n",
        "test_loader = DataLoader(test_dataset, batch_size=16, \n",
        "                          shuffle=False, num_workers=0)"
      ],
      "metadata": {
        "id": "Dk9BSM8zYOzg"
      },
      "execution_count": 94,
      "outputs": []
    },
    {
      "cell_type": "markdown",
      "source": [
        "# Model"
      ],
      "metadata": {
        "id": "fAGBh_W_mXjW"
      }
    },
    {
      "cell_type": "markdown",
      "source": [
        "## Mutex Attention Block"
      ],
      "metadata": {
        "id": "zrANjAhfm0ON"
      }
    },
    {
      "cell_type": "code",
      "source": [
        "class Mutex_block(nn.Module):\n",
        "    def __init__(self):\n",
        "        super(Mutex_block, self).__init__()\n",
        "        # self.batch = batch\n",
        "        # self.H = H\n",
        "        # self.C = C\n",
        "        # self.W = W\n",
        "        self.softmax = nn.Softmax(dim=1)\n",
        "        \n",
        "        \n",
        "    def forward(self, Frei, Frem):\n",
        "        batch, C, H, W = Frei.shape\n",
        "        \n",
        "        Fam = torch.subtract(Frei, Frem)\n",
        "        Fam = torch.pow(Fam, 2)\n",
        "        \n",
        "        #reshape\n",
        "        Fam = Fam.view(batch, C, H*W)\n",
        "        \n",
        "        #softmax\n",
        "        Fam = self.softmax(Fam)\n",
        "\n",
        "        #reshape\n",
        "        Fam = Fam.view(batch, C, H, W)\n",
        "        \n",
        "        #multiplication\n",
        "        Fam = torch.mul(Fam, Frem)\n",
        "        \n",
        "        return Fam"
      ],
      "metadata": {
        "id": "VaWSqMsTmL8a"
      },
      "execution_count": 108,
      "outputs": []
    },
    {
      "cell_type": "markdown",
      "source": [
        "## Fusion Attention Block"
      ],
      "metadata": {
        "id": "HqsXwiYZm6pD"
      }
    },
    {
      "cell_type": "code",
      "source": [
        "class Fusion_block(nn.Module):\n",
        "    def __init__(self, in_fc, out_fc, pool_size):\n",
        "        super(Fusion_block, self).__init__()\n",
        "        self.in_fc = in_fc\n",
        "        self.out_fc = out_fc\n",
        "        \n",
        "        self.softmax = nn.Softmax(dim=1)\n",
        "        self.avgpool = nn.AvgPool2d(pool_size)\n",
        "        self.maxpool = nn.MaxPool2d(pool_size)\n",
        "        \n",
        "        self.softmax = nn.Softmax(dim=0)\n",
        "        \n",
        "        # Set these parameters\n",
        "        self.fcC = nn.Sequential(\n",
        "            # nn.Dropout(0.5),\n",
        "            nn.Linear(in_fc, out_fc),\n",
        "            nn.ReLU())\n",
        "        \n",
        "        self.fcC_prim = nn.Sequential(\n",
        "            # nn.Dropout(0.5),\n",
        "            nn.Linear(out_fc, out_fc),\n",
        "            nn.ReLU())\n",
        "        \n",
        "        self.fcM = nn.Sequential(\n",
        "            # nn.Dropout(0.5),\n",
        "            nn.Linear(out_fc, out_fc),\n",
        "            nn.ReLU())\n",
        "        \n",
        "        self.fcN = nn.Sequential(\n",
        "            # nn.Dropout(0.5),\n",
        "            nn.Linear(out_fc, out_fc),\n",
        "            nn.ReLU())\n",
        "        \n",
        "    def forward(self, Fam, Frem):\n",
        "        f_temp = torch.add(Fam, Frem)\n",
        "        # print(f'first add: {f_temp.shape}')\n",
        "        \n",
        "        avg_pool = self.avgpool(f_temp).squeeze()\n",
        "        max_pool = self.maxpool(f_temp).squeeze()\n",
        "        f_temp = torch.add(avg_pool, max_pool)\n",
        "        # print(f'add after poolings: {f_temp.shape}')\n",
        "        \n",
        "        f_temp = f_temp.view(f_temp.size(0), -1)\n",
        "        # print(f'bifore first fc: {f_temp.shape}')\n",
        "        \n",
        "        \n",
        "        f_temp = self.fcC(f_temp)\n",
        "        # print(f'after first fc: {f_temp.shape}')\n",
        "        f_temp = self.fcC_prim(f_temp)\n",
        "        # print(f'after second fc: {f_temp.shape}')\n",
        "        \n",
        "        \n",
        "        fM = self.fcM(f_temp)\n",
        "        # print(f'size of fM: {fM.shape}')\n",
        "        fN = self.fcN(f_temp)\n",
        "        # print(f'size of fN: {fN.shape}')\n",
        "        \n",
        "        # unsqueeze\n",
        "        fM = torch.unsqueeze(fM, 0)\n",
        "        fN = torch.unsqueeze(fN, 0)\n",
        "        # print(f'unsqueeze fM: {fM.shape}\\nunsqueeze fN: {fN.shape}')\n",
        "        \n",
        "        # concatenate\n",
        "        z = torch.concat([fM, fN], dim=0)\n",
        "        # print(f'size of concat fM, fN: {z.shape}')\n",
        "        \n",
        "        # softmax\n",
        "        z = self.softmax(z)\n",
        "        # print(f'after softmax: {z.shape}')\n",
        "        \n",
        "        fM = z[0,...]\n",
        "        # print(f'separate fM: {fM.shape}')\n",
        "        fN = z[1,...]\n",
        "        # print(f'separate fN: {fN.shape}')\n",
        "        \n",
        "        \n",
        "        # print(f'size of fM after view: {fM.view(fM.size(0), fM.size(1), 1, 1).shape}')\n",
        "        \n",
        "        # fM --> [B, C]\n",
        "        # Fam --> [B, C, H, W]\n",
        "        Ffm_m = torch.mul(Fam, fM.view(fM.size(0), fM.size(1), 1, 1))\n",
        "        Ffm_n = torch.mul(Frem, fN.view(fN.size(0), fN.size(1), 1, 1))\n",
        "        \n",
        "        Ffm = torch.add(Ffm_m, Ffm_n)\n",
        "        \n",
        "        return Ffm"
      ],
      "metadata": {
        "id": "Vw7iuX4om6Hc"
      },
      "execution_count": 109,
      "outputs": []
    },
    {
      "cell_type": "markdown",
      "source": [
        "## Final model"
      ],
      "metadata": {
        "id": "v0P7Ge03nIAC"
      }
    },
    {
      "cell_type": "markdown",
      "source": [
        "### Res Block"
      ],
      "metadata": {
        "id": "LIbPCI6XnLAP"
      }
    },
    {
      "cell_type": "code",
      "source": [
        "class Bottleneck(nn.Module):\n",
        "    expansion = 4\n",
        "\n",
        "    def __init__(self, in_planes, planes, stride=1):\n",
        "        super(Bottleneck, self).__init__()\n",
        "        self.conv1 = nn.Conv2d(in_planes, planes, kernel_size=1, bias=False)\n",
        "        self.bn1 = nn.BatchNorm2d(planes)\n",
        "        self.conv2 = nn.Conv2d(planes, planes, kernel_size=3, \n",
        "                               stride=stride, padding=1, bias=False)\n",
        "        self.bn2 = nn.BatchNorm2d(planes)\n",
        "        self.conv3 = nn.Conv2d(planes, self.expansion*planes,\n",
        "                               kernel_size=1, bias=False)\n",
        "        self.bn3 = nn.BatchNorm2d(self.expansion*planes)\n",
        "\n",
        "        self.shortcut = nn.Sequential()\n",
        "\n",
        "        if stride != 1 or in_planes != self.expansion*planes:\n",
        "            self.shortcut = nn.Sequential(\n",
        "              nn.Conv2d(in_planes, self.expansion*planes, \n",
        "                        kernel_size=1, stride=stride, bias=False),\n",
        "              nn.BatchNorm2d(self.expansion*planes)\n",
        "            )\n",
        "\n",
        "    def forward(self, x):\n",
        "        out = F.relu(self.bn1(self.conv1(x)))\n",
        "        out = F.relu(self.bn2(self.conv2(out)))\n",
        "        out = self.bn3(self.conv3(out))\n",
        "        out += self.shortcut(x)\n",
        "        out = F.relu(out)\n",
        "        return out\n"
      ],
      "metadata": {
        "id": "Hs2DmrsunByR"
      },
      "execution_count": 110,
      "outputs": []
    },
    {
      "cell_type": "markdown",
      "source": [
        "### Final Model"
      ],
      "metadata": {
        "id": "ceSaOF35nSlu"
      }
    },
    {
      "cell_type": "code",
      "source": [
        "class ResNet(nn.Module):\n",
        "    def __init__(self, block, num_blocks, Mutex_attention, Fusion_attention, num_classes=2):\n",
        "        super(ResNet, self).__init__()\n",
        "        self.in_planes = 64\n",
        "        \n",
        "        self.layer0 = nn.Sequential(\n",
        "            nn.Conv2d(3, 64, kernel_size=7, stride=2, padding=1, bias=False),\n",
        "            nn.BatchNorm2d(64)\n",
        "        )\n",
        "        self.mutex_block_0 = Mutex_attention()\n",
        "        self.Fusion_block_0 = Fusion_attention(64, 64 , 54)\n",
        "        \n",
        "        self.layer1 = self._make_layer(block, 64, num_blocks[0], stride=1)\n",
        "        self.mutex_block_1 = Mutex_attention()\n",
        "        self.Fusion_block_1 = Fusion_attention(256, 256, 54)\n",
        "        \n",
        "        self.layer2 = self._make_layer(block, 128, num_blocks[1], stride=2)\n",
        "        self.mutex_block_2 = Mutex_attention()\n",
        "        self.Fusion_block_2 = Fusion_attention(512, 512, 27)\n",
        "        \n",
        "        self.layer3 = self._make_layer(block, 256, num_blocks[2], stride=2)\n",
        "        self.mutex_block_3 = Mutex_attention()\n",
        "        self.Fusion_block_3 = Fusion_attention(1024, 1024, 14)\n",
        "        \n",
        "        self.layer4 = self._make_layer(block, 512, num_blocks[3], stride=2)\n",
        "        self.mutex_block_4 = Mutex_attention()\n",
        "        self.Fusion_block_4 = Fusion_attention(2048, 2048, 7)\n",
        "        \n",
        "        # pooling\n",
        "        self.avgpool = nn.AvgPool2d(7)\n",
        "        \n",
        "        self.fc_o_1 = nn.Sequential(\n",
        "            nn.Dropout(0.5),\n",
        "            nn.Linear(2048, 512),\n",
        "            nn.ReLU())\n",
        "        self.fc_m_1 = nn.Sequential(\n",
        "            nn.Dropout(0.5),\n",
        "            nn.Linear(2048, 512),\n",
        "            nn.ReLU())\n",
        "        \n",
        "        self.fc_o_2 = nn.Sequential(\n",
        "            nn.Dropout(0.5),\n",
        "            nn.Linear(512, 2),\n",
        "            nn.ReLU())\n",
        "        self.fc_m_2 = nn.Sequential(\n",
        "            nn.Dropout(0.5),\n",
        "            nn.Linear(512, 2),\n",
        "            nn.ReLU())\n",
        "        \n",
        "        self.softmax_out = nn.Softmax(dim=1)\n",
        "        \n",
        "        # self.linear = nn.Linear(512*block.expansion, num_classes)\n",
        "        # self.linear = nn.Linear(100352, num_classes)\n",
        "\n",
        "\n",
        "    def _make_layer(self, block, planes, num_blocks, stride):\n",
        "        strides = [stride] + [1]*(num_blocks-1)\n",
        "        layers = []\n",
        "        for stride in strides:\n",
        "            layers.append(block(self.in_planes, planes, stride))\n",
        "            self.in_planes = planes * block.expansion\n",
        "        return nn.Sequential(*layers)\n",
        "\n",
        "\n",
        "    def forward(self, x, mutex_x):\n",
        "        \n",
        "        \n",
        "        # Res_layer_0\n",
        "        # print('Res_layer_0')\n",
        "        Frei = F.relu(self.layer0(x))\n",
        "        Frei = nn.MaxPool2d(kernel_size = 3, stride = 2)(Frei)\n",
        "        \n",
        "        Frem = F.relu(self.layer0(mutex_x))\n",
        "        Frem = nn.MaxPool2d(kernel_size = 3, stride = 2)(Frem)\n",
        "        \n",
        "        Fam = self.mutex_block_0(Frei, Frem)\n",
        "        \n",
        "        Fom = self.Fusion_block_0(Fam, Frem)\n",
        "        \n",
        "        Fo = Frei\n",
        "        \n",
        "        # Set names\n",
        "        Fi = Fo\n",
        "        Fm = Fom\n",
        "        # print(f'shape of Fo is: {Fo.shape}')\n",
        "        # print(50*'-')\n",
        "        \n",
        "        # ---------------------------------------------------------\n",
        "        \n",
        "        # Res_layer_1\n",
        "        # print('Res_layer_1')\n",
        "        \n",
        "        Frei = F.relu(self.layer1(Fi))\n",
        "        \n",
        "        Frem = F.relu(self.layer1(Fm))\n",
        "        \n",
        "        Fam = self.mutex_block_1(Frei, Frem)\n",
        "        \n",
        "        Fom = self.Fusion_block_1(Fam, Frem)\n",
        "        \n",
        "        Fo = Frei\n",
        "        \n",
        "        # Set names\n",
        "        Fi = Fo\n",
        "        Fm = Fom\n",
        "        # print(f'shape of Fo is: {Fo.shape}')\n",
        "        # print(50*'-')\n",
        "        \n",
        "        # ---------------------------------------------------------\n",
        "        \n",
        "        # Res_layer_2\n",
        "        # print('Res_layer_2')\n",
        "        \n",
        "        Frei = F.relu(self.layer2(Fi))\n",
        "        \n",
        "        Frem = F.relu(self.layer2(Fm))\n",
        "        \n",
        "        Fam = self.mutex_block_2(Frei, Frem)\n",
        "        \n",
        "        Fom = self.Fusion_block_2(Fam, Frem)\n",
        "        \n",
        "        Fo = Frei\n",
        "        \n",
        "        # Set names\n",
        "        Fi = Fo\n",
        "        Fm = Fom\n",
        "        # print(f'shape of Fo is: {Fo.shape}')\n",
        "        # print(50*'-')\n",
        "        \n",
        "        # ---------------------------------------------------------\n",
        "        \n",
        "        # Res_layer_3\n",
        "        # print('Res_layer_3')\n",
        "        \n",
        "        Frei = F.relu(self.layer3(Fi))\n",
        "        \n",
        "        Frem = F.relu(self.layer3(Fm))\n",
        "        \n",
        "        Fam = self.mutex_block_3(Frei, Frem)\n",
        "        \n",
        "        Fom = self.Fusion_block_3(Fam, Frem)\n",
        "        \n",
        "        Fo = Frei\n",
        "        \n",
        "        # Set names\n",
        "        Fi = Fo\n",
        "        Fm = Fom\n",
        "        # print(f'shape of Fo is: {Fo.shape}')\n",
        "        # print(50*'-')\n",
        "        \n",
        "        # ---------------------------------------------------------\n",
        "        \n",
        "        # Res_layer_4\n",
        "        # print('Res_layer_4')\n",
        "        \n",
        "        Frei = F.relu(self.layer4(Fi))\n",
        "        \n",
        "        Frem = F.relu(self.layer4(Fm))\n",
        "        \n",
        "        Fam = self.mutex_block_4(Frei, Frem)\n",
        "        \n",
        "        Fom = self.Fusion_block_4(Fam, Frem)\n",
        "        \n",
        "        Fo = Frei\n",
        "        \n",
        "        # Set names\n",
        "        Fi = Fo\n",
        "        Fm = Fom\n",
        "        \n",
        "        #set Vi, Vm for calculate cosine loss\n",
        "        Vi = Fo.clone()\n",
        "        Vm = Fom.clone()\n",
        "        # print(f'shape of Fo is: {Fo.shape}')\n",
        "        # print(50*'-')\n",
        "        \n",
        "        # ---------------------------------------------------------\n",
        "        \n",
        "        # global pooling\n",
        "        Fo = self.avgpool(Fo).squeeze()\n",
        "        Fom = self.avgpool(Fom).squeeze()\n",
        "        # print(f'shape of Fo , Fm after pooling:\\n \\\n",
        "        #         {Fo.shape}, {Fom.shape}')\n",
        "        \n",
        "        # ---------------------------------------------------------\n",
        "        \n",
        "        # final_fully_layer\n",
        "        Fo = self.fc_o_1(Fo)\n",
        "        Fom = self.fc_m_1(Fom)\n",
        "        \n",
        "        Fo = self.fc_o_2(Fo)\n",
        "        Fom = self.fc_m_2(Fom)\n",
        "        \n",
        "        Fo = self.softmax_out(Fo)\n",
        "        Fom = self.softmax_out(Fom)\n",
        "        \n",
        "        # print(f'Fo finel:{Fo.shape}')\n",
        "        # print(f'Fm finel:{Fom.shape}')\n",
        "        \n",
        "        # out = self.layer1(out)\n",
        "        # out = self.layer2(out)\n",
        "        # out = self.layer3(out)\n",
        "        # out = self.layer4(out)\n",
        "        # out = F.avg_pool2d(out, 4)\n",
        "        # out = out.view(out.size(0), -1)\n",
        "        # # print(out.shape)\n",
        "        # out = self.linear(out)\n",
        "        return Fo, Fom, Vi, Vm"
      ],
      "metadata": {
        "id": "SJHXa8sZnPrP"
      },
      "execution_count": 111,
      "outputs": []
    },
    {
      "cell_type": "code",
      "source": [
        "model = ResNet(Bottleneck, [3, 4, 6, 3], Mutex_block, Fusion_block)"
      ],
      "metadata": {
        "id": "swGpCmgTnZKf"
      },
      "execution_count": 112,
      "outputs": []
    },
    {
      "cell_type": "code",
      "source": [
        "model = model.to(device)"
      ],
      "metadata": {
        "id": "OsWuiDxQndfN"
      },
      "execution_count": 113,
      "outputs": []
    },
    {
      "cell_type": "markdown",
      "source": [
        "# Training"
      ],
      "metadata": {
        "id": "xVB9OnmlnzJw"
      }
    },
    {
      "cell_type": "code",
      "source": [
        "optimizer = torch.optim.SGD(model.parameters(), lr=0.005, weight_decay = 0.005, momentum = 0.9)"
      ],
      "metadata": {
        "id": "Vzdx8eYMq3iV"
      },
      "execution_count": 114,
      "outputs": []
    },
    {
      "cell_type": "code",
      "source": [
        "# initial losses\n",
        "Lce_ = nn.CrossEntropyLoss()\n",
        "Lcs_ = nn.CosineSimilarity(dim=1, eps=1e-6)"
      ],
      "metadata": {
        "id": "gb66QHJnq9lD"
      },
      "execution_count": 115,
      "outputs": []
    },
    {
      "cell_type": "code",
      "source": [
        "for sample in train_loader:\n",
        "  image_i = sample['image_i'].to(device)\n",
        "  label_i = sample['label_i'].to(device)\n",
        "  image_mu = sample['image_mu'].to(device)\n",
        "  label_mu = sample['label_mu'].to(device)\n",
        "\n",
        "  Fo, Fom, Vi, Vm = model(image_i.float(), image_mu.float())\n",
        "\n",
        "  # calculate losses\n",
        "  L1 = Lce_(Fo, label_i)\n",
        "  L2 = Lce_(Fom, label_mu)\n",
        "  Lce = L1 + L2\n",
        "\n",
        "  Lcs = torch.mean(Lcs_(Vi.view(Vi.size(0), -1), Vm.view(Vm.size(0), -1)))\n",
        "\n",
        "  Lce_exp = torch.exp(1/Lce)\n",
        "  Lcs_exp = torch.exp(1/Lcs)\n",
        "  a1 = Lce_exp / (Lce_exp + Lcs_exp)\n",
        "  a2 = Lcs_exp / (Lce_exp + Lcs_exp)\n",
        "\n",
        "  loss = (a1 * Lce) + (a2 * Lcs)\n",
        "\n",
        "  optimizer.zero_grad()\n",
        "  loss.backward()\n",
        "  optimizer.step()\n",
        "  \n",
        "  print(loss)"
      ],
      "metadata": {
        "colab": {
          "base_uri": "https://localhost:8080/"
        },
        "id": "ZCIeZm01nu95",
        "outputId": "52134218-c489-4119-9c18-69d8cc298bf5"
      },
      "execution_count": 116,
      "outputs": [
        {
          "output_type": "stream",
          "name": "stdout",
          "text": [
            "tensor(0.6120, grad_fn=<AddBackward0>)\n",
            "tensor(0.6430, grad_fn=<AddBackward0>)\n",
            "tensor(0.6318, grad_fn=<AddBackward0>)\n",
            "tensor(0.6322, grad_fn=<AddBackward0>)\n",
            "tensor(0.6179, grad_fn=<AddBackward0>)\n",
            "tensor(0.6174, grad_fn=<AddBackward0>)\n",
            "tensor(0.6098, grad_fn=<AddBackward0>)\n",
            "tensor(0.6207, grad_fn=<AddBackward0>)\n",
            "tensor(0.6059, grad_fn=<AddBackward0>)\n",
            "tensor(0.5900, grad_fn=<AddBackward0>)\n",
            "tensor(0.6015, grad_fn=<AddBackward0>)\n",
            "tensor(0.5867, grad_fn=<AddBackward0>)\n",
            "tensor(0.5704, grad_fn=<AddBackward0>)\n",
            "tensor(0.5263, grad_fn=<AddBackward0>)\n",
            "tensor(0.5703, grad_fn=<AddBackward0>)\n",
            "tensor(0.5714, grad_fn=<AddBackward0>)\n",
            "tensor(0.5482, grad_fn=<AddBackward0>)\n",
            "tensor(0.5463, grad_fn=<AddBackward0>)\n",
            "tensor(0.5245, grad_fn=<AddBackward0>)\n",
            "tensor(0.5081, grad_fn=<AddBackward0>)\n",
            "tensor(0.6010, grad_fn=<AddBackward0>)\n",
            "tensor(0.5192, grad_fn=<AddBackward0>)\n",
            "tensor(0.5557, grad_fn=<AddBackward0>)\n",
            "tensor(0.5030, grad_fn=<AddBackward0>)\n",
            "tensor(0.5460, grad_fn=<AddBackward0>)\n",
            "tensor(0.5555, grad_fn=<AddBackward0>)\n",
            "tensor(0.4400, grad_fn=<AddBackward0>)\n",
            "tensor(0.4770, grad_fn=<AddBackward0>)\n",
            "tensor(0.4493, grad_fn=<AddBackward0>)\n",
            "tensor(0.4414, grad_fn=<AddBackward0>)\n",
            "tensor(0.4473, grad_fn=<AddBackward0>)\n",
            "tensor(0.4628, grad_fn=<AddBackward0>)\n",
            "tensor(0.4619, grad_fn=<AddBackward0>)\n",
            "tensor(0.4338, grad_fn=<AddBackward0>)\n",
            "tensor(0.4122, grad_fn=<AddBackward0>)\n",
            "tensor(0.4086, grad_fn=<AddBackward0>)\n",
            "tensor(0.3605, grad_fn=<AddBackward0>)\n",
            "tensor(0.4173, grad_fn=<AddBackward0>)\n",
            "tensor(0.3370, grad_fn=<AddBackward0>)\n",
            "tensor(0.3986, grad_fn=<AddBackward0>)\n",
            "tensor(0.4059, grad_fn=<AddBackward0>)\n",
            "tensor(0.3419, grad_fn=<AddBackward0>)\n",
            "tensor(0.3374, grad_fn=<AddBackward0>)\n",
            "tensor(0.2761, grad_fn=<AddBackward0>)\n",
            "tensor(0.2915, grad_fn=<AddBackward0>)\n",
            "tensor(0.2685, grad_fn=<AddBackward0>)\n",
            "tensor(0.2284, grad_fn=<AddBackward0>)\n",
            "tensor(0.3858, grad_fn=<AddBackward0>)\n",
            "tensor(0.2727, grad_fn=<AddBackward0>)\n",
            "tensor(0.2432, grad_fn=<AddBackward0>)\n",
            "tensor(0.3433, grad_fn=<AddBackward0>)\n",
            "tensor(0.3036, grad_fn=<AddBackward0>)\n",
            "tensor(0.2125, grad_fn=<AddBackward0>)\n",
            "tensor(0.2852, grad_fn=<AddBackward0>)\n",
            "tensor(0.2771, grad_fn=<AddBackward0>)\n",
            "tensor(0.2453, grad_fn=<AddBackward0>)\n",
            "tensor(0.2789, grad_fn=<AddBackward0>)\n",
            "tensor(0.2491, grad_fn=<AddBackward0>)\n",
            "tensor(0.2904, grad_fn=<AddBackward0>)\n",
            "tensor(0.1846, grad_fn=<AddBackward0>)\n",
            "tensor(0.1721, grad_fn=<AddBackward0>)\n",
            "tensor(0.1415, grad_fn=<AddBackward0>)\n"
          ]
        }
      ]
    },
    {
      "cell_type": "code",
      "source": [
        "loss"
      ],
      "metadata": {
        "colab": {
          "base_uri": "https://localhost:8080/"
        },
        "id": "hVUbZk5poUJW",
        "outputId": "9cba5f91-301d-4122-b540-624f6338acd3"
      },
      "execution_count": 107,
      "outputs": [
        {
          "output_type": "execute_result",
          "data": {
            "text/plain": [
              "tensor(0.6289, grad_fn=<AddBackward0>)"
            ]
          },
          "metadata": {},
          "execution_count": 107
        }
      ]
    },
    {
      "cell_type": "code",
      "source": [],
      "metadata": {
        "id": "E-noP8_SrudN"
      },
      "execution_count": null,
      "outputs": []
    }
  ]
}